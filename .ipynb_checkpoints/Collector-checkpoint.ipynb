{
 "cells": [
  {
   "cell_type": "code",
   "execution_count": null,
   "metadata": {
    "collapsed": true
   },
   "outputs": [],
   "source": [
    "#  import psycopg2"
   ]
  },
  {
   "cell_type": "code",
   "execution_count": 12,
   "metadata": {
    "collapsed": true
   },
   "outputs": [],
   "source": [
    "# try:\n",
    "#     conn = psycopg2.connect(database=\"reporting\",\n",
    "#                                 user=\"apshenichniy\",\n",
    "#                                 password=\"qu3IRupQtKKRXYUx87EC\",\n",
    "#                                 host=\"node01.prod.analytics.wz-ams.lo.mobbtech.com\",\n",
    "#                                 port=5432)\n",
    "#     sql = \"\"\"\n",
    "#   -\n",
    "#     \"\"\"\n",
    "#     local_cursor = conn.cursor()\n",
    "#     local_cursor.execute(sql)\n",
    "# #     result = local_cursor.fetchall()\n",
    "#     print(local_cursor[0])\n",
    "#     local_cursor.close()\n",
    "# finally:\n",
    "#     conn.close()"
   ]
  },
  {
   "cell_type": "code",
   "execution_count": 1,
   "metadata": {
    "collapsed": true
   },
   "outputs": [],
   "source": [
    "%matplotlib inline\n",
    "import numpy as np\n",
    "import pandas as pd\n",
    "import matplotlib.pyplot as plt\n",
    "import matplotlib \n",
    "from sklearn.model_selection import train_test_split\n",
    "from sklearn.metrics import mean_squared_error\n",
    "from sklearn.metrics import accuracy_score\n",
    "from sklearn.ensemble import GradientBoostingRegressor\n",
    "from utils import features_engineering "
   ]
  },
  {
   "cell_type": "code",
   "execution_count": 2,
   "metadata": {},
   "outputs": [
    {
     "name": "stderr",
     "output_type": "stream",
     "text": [
      "/Users/aleksey.pshenichnyy/anaconda/lib/python3.6/site-packages/IPython/core/interactiveshell.py:2717: DtypeWarning: Columns (8) have mixed types. Specify dtype option on import or set low_memory=False.\n",
      "  interactivity=interactivity, compiler=compiler, result=result)\n"
     ]
    }
   ],
   "source": [
    "def rename(prefix,df):\n",
    "    column_mapper = {x:f\"{prefix}{x}\" for x in df.columns.values if x != 'user_id'}\n",
    "    return df.rename(index=str, columns=column_mapper)\n",
    "    \n",
    "\n",
    "pnl30 = pd.read_csv(\"reporting_data_science_pnl_2017_12_01_to_2018_01_01.csv\")\n",
    "ds_b = rename(\"b_\",pd.read_csv(\"reporting_data_science_ltv_dataset_binary.csv\"))\n",
    "ds_n = rename(\"n_\",pd.read_csv(\"reporting_data_science_ltv_dataset_ni.csv\"))\n",
    "ds_c = rename(\"c_\",pd.read_csv(\"reporting_data_science_ltv_dataset_commissions.csv\"))\n",
    "ds_u = pd.read_csv(\"users.csv\")\n",
    "pnl30 = pnl30.drop(columns=['user_created'])"
   ]
  },
  {
   "cell_type": "code",
   "execution_count": 3,
   "metadata": {},
   "outputs": [
    {
     "data": {
      "text/plain": [
       "(320575, 200750, 227826, 234910, 5859064)"
      ]
     },
     "execution_count": 3,
     "metadata": {},
     "output_type": "execute_result"
    }
   ],
   "source": [
    "# pd.merge(ds_b,ds_n,on=\"user_id\")\n",
    "len(ds_b),len(ds_n),len(ds_c),len(pnl30),len(ds_u)\n",
    "# ds_u[\"is_public\"].hist()\n",
    "# ds_u.head()"
   ]
  },
  {
   "cell_type": "code",
   "execution_count": 4,
   "metadata": {},
   "outputs": [
    {
     "data": {
      "text/plain": [
       "5859064"
      ]
     },
     "execution_count": 4,
     "metadata": {},
     "output_type": "execute_result"
    }
   ],
   "source": [
    "pnl30 = pnl30.fillna(0.0)\n",
    "pnl30[\"sum_pnl\"] = pnl30[\"binary_pnl_30\"] + pnl30[\"ni_pnl_30\"] + pnl30[\"commission_30\"]\n",
    "pnl30[\"has_pnl\"] = True\n",
    "ds_b_i = ds_b.set_index('user_id')\n",
    "ds_n_i = ds_n.set_index('user_id')\n",
    "ds_c_i = ds_c.set_index('user_id')\n",
    "pnl30_i = pnl30.set_index('user_id')\n",
    "ds_u_i = ds_u.set_index('user_id')\n",
    "# 656118 with pnl\n",
    "data_i = ds_b_i.combine_first(ds_n_i).combine_first(ds_c_i).combine_first(pnl30_i).combine_first(ds_u_i)\n",
    "data = data_i.reset_index()\n",
    "len(data)"
   ]
  },
  {
   "cell_type": "code",
   "execution_count": 5,
   "metadata": {
    "collapsed": true
   },
   "outputs": [],
   "source": [
    "# data_i.loc[[24677877]]\n",
    "# pnl30_i.loc[[24677877]]\n",
    "# ds_b_i.loc[[24677877]]\n",
    "# ds_b_i.loc[[26499486]]\n",
    "# pnl30_i[\"user_created\"].min(),pnl30_i[\"user_created\"].max()\n",
    "# data[data.columns.values].head()\n",
    "# data.columns.values"
   ]
  },
  {
   "cell_type": "code",
   "execution_count": 6,
   "metadata": {},
   "outputs": [
    {
     "name": "stdout",
     "output_type": "stream",
     "text": [
      "'fill na' complete\n",
      "'Find NA\n",
      "age 5298537\n",
      "gender 4970234\n",
      "Save data ...\n",
      "File saved\n"
     ]
    }
   ],
   "source": [
    "# def features_engineering(df):\n",
    "# # Features\n",
    "# # age\n",
    "# data[\"age_18_30\"] = ((data[\"age\"] >= 18) & (data[\"age\"] < 30))\n",
    "# data[\"age_30_40\"] = ((data[\"age\"] >= 30) & (data[\"age\"] < 40))\n",
    "# data[\"age_40_50\"] = ((data[\"age\"] >= 40) & (data[\"age\"] < 50))\n",
    "# data[\"age_50_80\"] = ((data[\"age\"] >= 50) & (data[\"age\"] <= 80))\n",
    "# data[\"age_trash\"] = ((data[\"age\"] < 18) | (data[\"age\"] > 80))\n",
    "# print(\"'Age' complete\")\n",
    "\n",
    "\n",
    "# data[\"locale_en_US\"] = data[\"locale\"] == \"en_US\" \n",
    "# data[\"locale_de_DE\"] = data[\"locale\"] == \"de_DE\" \n",
    "# data[\"locale_id_ID\"] = data[\"locale\"] == \"id_ID\" \n",
    "# data[\"locale_it_IT\"] = data[\"locale\"] == \"it_IT\" \n",
    "# data[\"locale_zh_CN\"] = data[\"locale\"] == \"zh_CN\" \n",
    "# data[\"locale_fr_FR\"] = data[\"locale\"] == \"fr_FR\" \n",
    "# data[\"locale_es_ES\"] = data[\"locale\"] == \"es_ES\" \n",
    "# data[\"locale_th_TH\"] = data[\"locale\"] == \"th_TH\" \n",
    "\n",
    "# print(\"'Locale' complete\")\n",
    "\n",
    "# data['country_id_225'] = data['country_id'] == 225\n",
    "# data['country_id_94'] = data['country_id'] == 94\n",
    "# data['country_id_30'] = data['country_id'] == 30\n",
    "# data['country_id_164'] = data['country_id'] == 164\n",
    "# data['country_id_140'] = data['country_id'] == 140\n",
    "# data['country_id_97'] = data['country_id'] == 97\n",
    "# data['country_id_175'] = data['country_id'] == 175\n",
    "# data['country_id_205'] = data['country_id'] == 205\n",
    "# data['country_id_206'] = data['country_id'] == 206\n",
    "# data['country_id_157'] = data['country_id'] == 157\n",
    "# print(\"'Country' complete\")\n",
    "\n",
    "# data[\"gender_1\"] = data[\"gender\"] == 1\n",
    "# data[\"gender_2\"] = data[\"gender\"] == 2\n",
    "# print(\"'Gender' complete\")\n",
    "\n",
    "# data['currency_id_5'] = data['currency_id'] == 5\n",
    "# data['currency_id_1'] = data['currency_id'] == 1\n",
    "# data['currency_id_2'] = data['currency_id'] == 2\n",
    "# data['currency_id_6'] = data['currency_id'] == 6\n",
    "# data['currency_id_43'] = data['currency_id'] == 43\n",
    "# print(\"'Currency' complete\")\n",
    "\n",
    "# data['client_platform_id'] = data['client_platform_id']== 9\n",
    "# data['client_platform_id'] = data['client_platform_id'] == 3\n",
    "# data['client_platform_id'] = data['client_platform_id'] == 12\n",
    "# data['client_platform_id'] = data['client_platform_id'] == 13\n",
    "# data['client_platform_id'] = data['client_platform_id'] == 14\n",
    "# data['client_platform_id'] = data['client_platform_id'] == 1000\n",
    "# print(\"'client_platform_id' complete\")\n",
    "\n",
    "# data[\"is_trial\"] = data[\"is_trial\"].fillna(False)\n",
    "# data[\"is_regulated\"] = data[\"is_regulated\"].fillna(False)\n",
    "# data[\"is_public\"] = data[\"is_public\"].fillna(False)\n",
    "# data[\"is_public_1\"] = data[\"is_public\"] == True\n",
    "# data[\"is_public_0\"] = data[\"is_public\"] == False\n",
    "# print(\"'logical' complete\")\n",
    "\n",
    "# def fill_na_by_prefix(df,prefixs,def_na=0):\n",
    "#     cols_for_fill= []\n",
    "#     for col_name in df.columns.values:\n",
    "#         for pref in prefixs:\n",
    "#             if col_name.startswith(pref):\n",
    "#                 cols_for_fill.append(col_name)\n",
    "#     df[cols_for_fill] = df[cols_for_fill].fillna(def_na)\n",
    "    \n",
    "# fill_na_by_prefix(data,prefixs=[\"b_\",\"n_\",\"c_\"])\n",
    "# data[\"binary_pnl_30\"] = data[\"binary_pnl_30\"].fillna(0)\n",
    "# data[\"commission_30\"] = data[\"commission_30\"].fillna(0)\n",
    "# data[\"ni_pnl_30\"] = data[\"ni_pnl_30\"].fillna(0)\n",
    "# data[\"sum_pnl\"] = data[\"sum_pnl\"].fillna(0)\n",
    "# data[\"has_pnl\"] = data[\"has_pnl\"].fillna(False)\n",
    "\n",
    "data = features_engineering(data)\n",
    "\n",
    "print(\"'fill na' complete\")\n",
    "\n",
    "print(\"'Find NA\")\n",
    "for col_name in data.columns.values:\n",
    "    if data[col_name].isnull().sum() > 0:\n",
    "        print(col_name,data[col_name].isnull().sum())\n",
    "        \n",
    "print(\"Save data ...\")\n",
    "data.to_pickle(\"ltv_dataset.gzip\",protocol=4,compression='gzip')  \n",
    "print(\"File saved\")\n"
   ]
  },
  {
   "cell_type": "code",
   "execution_count": 164,
   "metadata": {
    "collapsed": true
   },
   "outputs": [],
   "source": [
    "# data = data.fillna(0.0)\n",
    "data.to_pickle(\"ltv_dataset.gzip\",protocol=4,compression='gzip') "
   ]
  },
  {
   "cell_type": "code",
   "execution_count": null,
   "metadata": {
    "collapsed": true
   },
   "outputs": [],
   "source": [
    "pnl30[\"sum_pnl\"].plot.hist(bins=100,logy=True)"
   ]
  },
  {
   "cell_type": "code",
   "execution_count": null,
   "metadata": {
    "collapsed": true
   },
   "outputs": [],
   "source": [
    "# pnl30\n",
    "# len(data.query('sum_pnl>0'))\n",
    "# data\n",
    "filter_columns = set([\"user_id\",\"sum_pnl\",\"sum_pnl_pos\",\"binary_pnl_30\",\"ni_pnl_30\",\"commission_30\",\"user_created\"])\n",
    "x_columns = [x for x in data.columns.values if x not in filter_columns]\n",
    "print(x_columns)"
   ]
  },
  {
   "cell_type": "code",
   "execution_count": null,
   "metadata": {
    "collapsed": true
   },
   "outputs": [],
   "source": [
    "X = data[x_columns].as_matrix()\n",
    "y = data[\"sum_pnl\"]\n",
    "X_train, X_test, y_train, y_test = train_test_split(X, y, test_size=0.33, random_state=13)"
   ]
  },
  {
   "cell_type": "code",
   "execution_count": null,
   "metadata": {
    "collapsed": true
   },
   "outputs": [],
   "source": [
    "params = {'n_estimators': 10, 'max_depth': 3, 'min_samples_split': 2, 'random_state':123,\n",
    "          'learning_rate': 0.01, 'loss': 'ls'}\n",
    "regressor = GradientBoostingRegressor(**params).fit(X_train, y_train)\n",
    "mean_squared_error(y_test, regressor.predict(X_test)) "
   ]
  },
  {
   "cell_type": "code",
   "execution_count": null,
   "metadata": {
    "collapsed": true
   },
   "outputs": [],
   "source": [
    "y_predict = regressor.predict(X_test)"
   ]
  },
  {
   "cell_type": "code",
   "execution_count": null,
   "metadata": {
    "collapsed": true
   },
   "outputs": [],
   "source": [
    "from sklearn.metrics import roc_curve, auc\n",
    "\n",
    "y_predict_prob = (y_predict/max(y_predict)).clip(0, 1)\n",
    "y_classes = y_test > 0\n",
    "\n",
    "fpr, tpr, _ = roc_curve(y_classes, y_predict_prob)\n",
    "roc_auc = auc(fpr, tpr)\n",
    "\n",
    "\n",
    "# Plot\n",
    "plt.figure()\n",
    "lw = 2\n",
    "plt.plot(fpr, tpr, color='darkorange',\n",
    "         lw=lw, label='ROC curve (area = %0.2f)' % roc_auc)\n",
    "plt.plot([0, 1], [0, 1], color='navy', lw=lw, linestyle='--')\n",
    "plt.xlim([0.0, 1.0])\n",
    "plt.ylim([0.0, 1.05])\n",
    "plt.xlabel('False Positive Rate')\n",
    "plt.ylabel('True Positive Rate')\n",
    "plt.title('Receiver operating characteristic example')\n",
    "plt.legend(loc=\"lower right\")\n",
    "plt.show()\n",
    "# accuracy_score(y_test > 0,(y_predict > 0))\n",
    "# mean_squared_error(y_test, regressor.predict(X_test)) "
   ]
  },
  {
   "cell_type": "code",
   "execution_count": null,
   "metadata": {
    "collapsed": true
   },
   "outputs": [],
   "source": []
  },
  {
   "cell_type": "code",
   "execution_count": null,
   "metadata": {
    "collapsed": true
   },
   "outputs": [],
   "source": []
  }
 ],
 "metadata": {
  "kernelspec": {
   "display_name": "Python 3",
   "language": "python",
   "name": "python3"
  },
  "language_info": {
   "codemirror_mode": {
    "name": "ipython",
    "version": 3
   },
   "file_extension": ".py",
   "mimetype": "text/x-python",
   "name": "python",
   "nbconvert_exporter": "python",
   "pygments_lexer": "ipython3",
   "version": "3.6.5"
  }
 },
 "nbformat": 4,
 "nbformat_minor": 2
}
